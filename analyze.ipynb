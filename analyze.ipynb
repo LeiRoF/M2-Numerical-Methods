{
 "cells": [
  {
   "cell_type": "code",
   "execution_count": 1,
   "metadata": {},
   "outputs": [],
   "source": [
    "# Import util modules\n",
    "\n",
    "from numpy import *\n",
    "import matplotlib.pyplot as plt\n",
    "from LRFutils import progress\n",
    "from LRFutils import archive\n",
    "from numba import njit\n",
    "import gc\n",
    "from IPython.display import Image"
   ]
  },
  {
   "cell_type": "code",
   "execution_count": 2,
   "metadata": {},
   "outputs": [],
   "source": [
    "# Import program classes\n",
    "\n",
    "from classes.layer import Layer\n",
    "from classes.island import Island\n",
    "from classes.monomer import Monomer"
   ]
  },
  {
   "cell_type": "code",
   "execution_count": 3,
   "metadata": {},
   "outputs": [],
   "source": [
    "# import program modules\n",
    "\n",
    "import bulk_simulation\n",
    "import animation\n",
    "import data\n",
    "import multiplot"
   ]
  },
  {
   "cell_type": "markdown",
   "metadata": {},
   "source": [
    "---"
   ]
  },
  {
   "cell_type": "markdown",
   "metadata": {},
   "source": [
    "# Config"
   ]
  },
  {
   "cell_type": "code",
   "execution_count": 4,
   "metadata": {},
   "outputs": [],
   "source": [
    "L = 25 # Size of the grid\n",
    "D1 = 1e4 # Diffusion coefficient [s-1]\n",
    "F = 1e4 # linspace(5e-6,1e4,1000,endpoint=True) # Flux [s-1]\n",
    "\n",
    "# Starting monomers\n",
    "N = 0 # L**2 / 100\n",
    "\n",
    "steps = 1000\n",
    "\n",
    "number_of_simulations = 1"
   ]
  },
  {
   "cell_type": "markdown",
   "metadata": {},
   "source": [
    "---"
   ]
  },
  {
   "cell_type": "markdown",
   "metadata": {},
   "source": [
    "# Class definition"
   ]
  },
  {
   "cell_type": "code",
   "execution_count": 5,
   "metadata": {},
   "outputs": [
    {
     "ename": "TypeError",
     "evalue": "run() got an unexpected keyword argument 'count'",
     "output_type": "error",
     "traceback": [
      "\u001b[1;31m---------------------------------------------------------------------------\u001b[0m",
      "\u001b[1;31mTypeError\u001b[0m                                 Traceback (most recent call last)",
      "\u001b[1;32mc:\\Users\\vince\\Documents\\Dev\\CompuPhys\\M2-Numerical-Methods\\analyze.ipynb Cell 9\u001b[0m in \u001b[0;36m<cell line: 1>\u001b[1;34m()\u001b[0m\n\u001b[1;32m----> <a href='vscode-notebook-cell:/c%3A/Users/vince/Documents/Dev/CompuPhys/M2-Numerical-Methods/analyze.ipynb#X13sZmlsZQ%3D%3D?line=0'>1</a>\u001b[0m bulk_simulation\u001b[39m.\u001b[39;49mrun(mode\u001b[39m=\u001b[39;49m\u001b[39m\"\u001b[39;49m\u001b[39mdensity\u001b[39;49m\u001b[39m\"\u001b[39;49m)\n\u001b[0;32m      <a href='vscode-notebook-cell:/c%3A/Users/vince/Documents/Dev/CompuPhys/M2-Numerical-Methods/analyze.ipynb#X13sZmlsZQ%3D%3D?line=2'>3</a>\u001b[0m Image(filename\u001b[39m=\u001b[39m\u001b[39m'\u001b[39m\u001b[39mdensity.png\u001b[39m\u001b[39m'\u001b[39m)\n",
      "File \u001b[1;32mc:\\Users\\vince\\Documents\\Dev\\CompuPhys\\M2-Numerical-Methods\\bulk_simulation.py:19\u001b[0m, in \u001b[0;36mrun\u001b[1;34m(mode)\u001b[0m\n\u001b[0;32m     14\u001b[0m pbar \u001b[39m=\u001b[39m progress\u001b[39m.\u001b[39mBar(number_of_simulations, \u001b[39m\"\u001b[39m\u001b[39mRunning simulations\u001b[39m\u001b[39m\"\u001b[39m)\n\u001b[0;32m     16\u001b[0m \u001b[39mfor\u001b[39;00m i \u001b[39min\u001b[39;00m \u001b[39mrange\u001b[39m(number_of_simulations):\n\u001b[1;32m---> 19\u001b[0m     evolution, monomers, free_monomers, stuck_monomers, occuped_space, islands, visited_sites, average_displacements \u001b[39m=\u001b[39m simulation\u001b[39m.\u001b[39;49mrun(count \u001b[39m=\u001b[39;49m i, save \u001b[39m=\u001b[39;49m number_of_simulations \u001b[39m==\u001b[39;49m \u001b[39m1\u001b[39;49m, verbose \u001b[39m=\u001b[39;49m number_of_simulations \u001b[39m==\u001b[39;49m \u001b[39m1\u001b[39;49m, path\u001b[39m=\u001b[39;49m\u001b[39m\"\u001b[39;49m\u001b[39mtmp\u001b[39;49m\u001b[39m\"\u001b[39;49m)\n\u001b[0;32m     21\u001b[0m     \u001b[39mif\u001b[39;00m mode \u001b[39m==\u001b[39m \u001b[39m\"\u001b[39m\u001b[39mdensity\u001b[39m\u001b[39m\"\u001b[39m:\n\u001b[0;32m     22\u001b[0m         by \u001b[39m=\u001b[39m array(occuped_space) \u001b[39m/\u001b[39m (L\u001b[39m*\u001b[39m\u001b[39m*\u001b[39m\u001b[39m2\u001b[39m)\n",
      "\u001b[1;31mTypeError\u001b[0m: run() got an unexpected keyword argument 'count'"
     ]
    },
    {
     "data": {
      "text/plain": [
       "<Figure size 1080x720 with 0 Axes>"
      ]
     },
     "metadata": {},
     "output_type": "display_data"
    }
   ],
   "source": [
    "\n",
    "bulk_simulation.run(mode=\"density\")\n",
    "\n",
    "Image(filename='density.png') "
   ]
  },
  {
   "cell_type": "code",
   "execution_count": null,
   "metadata": {},
   "outputs": [],
   "source": [
    "bulk_simulation.run(mode=\"iteration\")\n",
    "\n",
    "Image(filename='iteration.png') "
   ]
  },
  {
   "cell_type": "code",
   "execution_count": null,
   "metadata": {},
   "outputs": [],
   "source": [
    "\n",
    "bulk_simulation.run(mode=\"density\")\n",
    "\n",
    "Image(filename='density.png') "
   ]
  }
 ],
 "metadata": {
  "kernelspec": {
   "display_name": "Python 3.10.8 64-bit (microsoft store)",
   "language": "python",
   "name": "python3"
  },
  "language_info": {
   "codemirror_mode": {
    "name": "ipython",
    "version": 3
   },
   "file_extension": ".py",
   "mimetype": "text/x-python",
   "name": "python",
   "nbconvert_exporter": "python",
   "pygments_lexer": "ipython3",
   "version": "3.10.8"
  },
  "orig_nbformat": 4,
  "vscode": {
   "interpreter": {
    "hash": "e0d398e7c3cc3d2b8386dfea47f5eae3378d5d39db7e2c8ef87e93246db0bfd2"
   }
  }
 },
 "nbformat": 4,
 "nbformat_minor": 2
}
