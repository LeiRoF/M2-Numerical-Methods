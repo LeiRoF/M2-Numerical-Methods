{
 "cells": [
  {
   "cell_type": "code",
   "execution_count": 348,
   "metadata": {},
   "outputs": [],
   "source": [
    "from numpy import *\n",
    "import matplotlib.pyplot as plt\n",
    "from LRFutils import progress\n",
    "from LRFutils import archive\n",
    "import analyze\n",
    "from numba import njit"
   ]
  },
  {
   "cell_type": "markdown",
   "metadata": {},
   "source": [
    "---"
   ]
  },
  {
   "cell_type": "markdown",
   "metadata": {},
   "source": [
    "# Config"
   ]
  },
  {
   "cell_type": "code",
   "execution_count": 349,
   "metadata": {},
   "outputs": [],
   "source": [
    "L = 50 # Size of the grid\n",
    "D1 = 1e4 # Diffusion coefficient [s-1]\n",
    "F = 1e4 # linspace(5e-6,1e4,1000,endpoint=True) # Flux [s-1]\n",
    "\n",
    "N = 0 # L**2 / 100\n",
    "\n",
    "steps = 1000"
   ]
  },
  {
   "cell_type": "markdown",
   "metadata": {},
   "source": [
    "---"
   ]
  },
  {
   "cell_type": "markdown",
   "metadata": {},
   "source": [
    "# Class definition"
   ]
  },
  {
   "cell_type": "code",
   "execution_count": 350,
   "metadata": {},
   "outputs": [],
   "source": [
    "class Layer:\n",
    "    def __init__(self, L):\n",
    "        self.grid = []\n",
    "        for i in range(L):\n",
    "            self.grid.append([])\n",
    "            for j in range(L):\n",
    "                self.grid[i].append([])\n",
    "        self.islands = []\n",
    "    \n",
    "    def elements(self):\n",
    "        monomers = []\n",
    "        islands = []\n",
    "        for row in self.grid:\n",
    "            for monomerList in row:\n",
    "                if monomerList != []:\n",
    "                    # If the monomer is NOT a part of an islan, it is counted as a monomer\n",
    "                    if monomerList[0].island is None:\n",
    "                        monomers += monomerList\n",
    "    \n",
    "                    # If the monomer is a part of an islan, it is counted as an island\n",
    "                    else:\n",
    "                        if monomerList[0].island not in islands:\n",
    "                            islands.append(monomerList[0].island)\n",
    "        return monomers, islands\n",
    "\n",
    "    def monomers(self):\n",
    "        return self.elements()[0]\n",
    "\n",
    "    def islands(self):\n",
    "        return self.elements()[1]\n",
    "\n",
    "    def heightmap(self):\n",
    "        heightmap = zeros((L,L))\n",
    "        for x in range(L):\n",
    "            for y in range(L):\n",
    "                if self.grid[x][y] != []:\n",
    "                    heightmap[x][y] = len(self.grid[x][y])\n",
    "        return heightmap\n",
    "\n",
    "    def corrected_pos(x):\n",
    "        if x < 0:\n",
    "            return L-1\n",
    "        elif x >= L:\n",
    "            return 0\n",
    "        else:\n",
    "            return x"
   ]
  },
  {
   "cell_type": "code",
   "execution_count": 351,
   "metadata": {},
   "outputs": [],
   "source": [
    "class Island:\n",
    "    def __init__(self, layer, monomers):\n",
    "        self.layer = layer\n",
    "        if type(monomers) is not list: monomers = [monomers] \n",
    "        self.monomers = monomers\n",
    "    \n",
    "    def add_monomer(self, monomer):\n",
    "        monomer.island = self\n",
    "        self.monomers.append(monomer)"
   ]
  },
  {
   "cell_type": "code",
   "execution_count": 352,
   "metadata": {},
   "outputs": [],
   "source": [
    "class Monomer: \n",
    "    def __init__(self, layer, prob=1, x=None, y=None):\n",
    "        self.layer = layer\n",
    "        self.island = None\n",
    "        \n",
    "        # Place the monomer randomly on the layer\n",
    "        if x is None:\n",
    "            self.x = random.randint(0, L)\n",
    "        else:\n",
    "            self.x = x\n",
    "        if y is None:\n",
    "            self.y = random.randint(0, L)\n",
    "        else: self.y = y\n",
    "\n",
    "        # If the place is already occupied, the monomer is a part of the island\n",
    "        if self.layer.grid[self.x][self.y] != []:\n",
    "            \n",
    "            # If the existing monomer is already on an island, the new monomer is a part of this island\n",
    "            if (island := self.layer.grid[self.x][self.y][0].island) is not None:\n",
    "                island.add_monomer(self)\n",
    "\n",
    "            # If the existing monomer is not on an island, a new island is created contining both monomers\n",
    "            else:\n",
    "                self.island = Island(self.layer, self)\n",
    "                self.island.add_monomer(self.layer.grid[self.x][self.y][0])\n",
    "        \n",
    "        layer.grid[self.x][self.y].append(self)\n",
    "    \n",
    "    def neighbors(self):\n",
    "        neighbors = []\n",
    "\n",
    "        if m := self.layer.grid[Layer.corrected_pos(self.x-1)][self.y]:\n",
    "            neighbors.append(m[0])\n",
    "        if m := self.layer.grid[Layer.corrected_pos(self.x+1)][self.y]:\n",
    "            neighbors.append(m[0])\n",
    "        if m := self.layer.grid[self.x][Layer.corrected_pos(self.y-1)]:\n",
    "            neighbors.append(m[0])\n",
    "        if m := self.layer.grid[self.x][Layer.corrected_pos(self.y+1)]:\n",
    "            neighbors.append(m[0])\n",
    "\n",
    "        # for x in range(self.x - 1, self.x + 2):\n",
    "        #     if x < 0: x = L\n",
    "        #     if x >= L: x = 0\n",
    "            \n",
    "        #     for y in range(self.y - 1, self.y + 2):\n",
    "        #         if y < 0: y = L\n",
    "        #         if y >= L: y = 0\n",
    "\n",
    "        #         # Not taking itself\n",
    "        #         if x != self.x and y != self.y:\n",
    "\n",
    "        #             # Not taking diagonals\n",
    "        #             if not (x != self.x and y != self.y):\n",
    "\n",
    "        #                 # Checking if their is monomers\n",
    "        #                 if self.layer.grid[x][y] is not None:\n",
    "        #                     neighbors.append(self.layer.grid[x][y])\n",
    "                        \n",
    "        return neighbors\n",
    "\n",
    "    def islandify(self):\n",
    "        # Transform the monomer into an island if it has a neighbor\n",
    "        if len(neighbors := self.neighbors()) != 0:\n",
    "            islandified = False\n",
    "            for monomer in neighbors:\n",
    "                if monomer.island is not None:\n",
    "                    monomer.island.add_monomer(self)\n",
    "                    islandified = True\n",
    "                    break\n",
    "            if not islandified:\n",
    "                self.island = Island(self.layer, self)\n",
    "                for monomer in neighbors:\n",
    "                    monomer.island = self.island\n",
    "\n",
    "    def move(self):\n",
    "\n",
    "        self.islandify()\n",
    "\n",
    "        if self.island is not None: return\n",
    "\n",
    "        x, y = self.x, self.y\n",
    "\n",
    "        d = random.randint(0, 4)\n",
    "        if d == 0: x -= 1\n",
    "        elif d == 1: x += 1\n",
    "        elif d == 2: y -= 1\n",
    "        elif d == 3: y += 1\n",
    "\n",
    "        # Apply limit conditions\n",
    "        x = Layer.corrected_pos(x)\n",
    "        y = Layer.corrected_pos(y)\n",
    "\n",
    "        self.layer.grid[self.x][self.y].remove(self)\n",
    "        self.layer.grid[x][y].append(self)\n",
    "        self.x, self.y = x, y\n",
    "\n",
    "        self.islandify()"
   ]
  },
  {
   "cell_type": "markdown",
   "metadata": {},
   "source": [
    "---\n",
    "# Simulation"
   ]
  },
  {
   "cell_type": "code",
   "execution_count": 353,
   "metadata": {},
   "outputs": [
    {
     "name": "stdout",
     "output_type": "stream",
     "text": [
      "\u001b[0mSimulating evolution \u001b[32;1m━━━━━━━━━━━━━━━━━━━━━━━━━━━━━━━━━━━━ \u001b[32;1m100% \u001b[31;1m1000/1000 \u001b[35m0:00:03\u001b[0m[0meta \u001b[34m0:00:00\u001b[0m\n"
     ]
    },
    {
     "name": "stderr",
     "output_type": "stream",
     "text": [
      "MovieWriter ffmpeg unavailable; using Pillow instead.\n"
     ]
    },
    {
     "name": "stdout",
     "output_type": "stream",
     "text": [
      "\u001b[0mGenerating animation \u001b[32;1m━━━━━━━━━━━━━━━━━━━━━━━━━━━━━━━━━━━━ \u001b[32;1m100% \u001b[31;1m1000/1000 \u001b[35m0:00:43\u001b[0m[0meta \u001b[34m0:00:00\u001b[0m\n"
     ]
    },
    {
     "data": {
      "image/png": "[encoded data removed]",
      "text/plain": [
       "<Figure size 640x480 with 1 Axes>"
      ]
     },
     "metadata": {},
     "output_type": "display_data"
    }
   ],
   "source": [
    "layer = Layer(L)\n",
    "evolution = []\n",
    "\n",
    "# Putting monomers on the layer\n",
    "N=10\n",
    "while N > 0:\n",
    "    monomer = Monomer(layer, x=0,y=0)\n",
    "    N -= 1\n",
    "\n",
    "def evolve():\n",
    "    # Creating layer\n",
    "\n",
    "    for y in range(L):\n",
    "        for x in range(L):\n",
    "            if random.random() < F/D1 / L**2:\n",
    "                Monomer(layer, x=x, y=y)\n",
    "\n",
    "    for monomer in layer.monomers():\n",
    "        \n",
    "        # Move alll monomers\n",
    "        monomer.move()\n",
    "\n",
    "        # Check if monomers are in contact -> create island\n",
    "        if len(neighbors := monomer.neighbors()) > 0:\n",
    "            island = Island(layer, neighbors + [monomer])\n",
    "\n",
    "    # Return the new state of the layer as a matrix with 1 if there is a monomer, 0 otherwise\n",
    "    return layer.heightmap()\n",
    "\n",
    "# Generating evolution\n",
    "a = progress.Bar(max=steps, prefix=\"Simulating evolution\")\n",
    "for i, _ in enumerate(arange(0,steps)):\n",
    "    evolution.append(evolve())\n",
    "    a(i+1)\n",
    "\n",
    "path = archive.new()\n",
    "analyze.generate_animation(evolution, save_as = f\"{path}/Evolution.gif\", plot=False, verbose = False)"
   ]
  }
 ],
 "metadata": {
  "kernelspec": {
   "display_name": "Python 3.10.7 64-bit (microsoft store)",
   "language": "python",
   "name": "python3"
  },
  "language_info": {
   "codemirror_mode": {
    "name": "ipython",
    "version": 3
   },
   "file_extension": ".py",
   "mimetype": "text/x-python",
   "name": "python",
   "nbconvert_exporter": "python",
   "pygments_lexer": "ipython3",
   "version": "3.10.7"
  },
  "orig_nbformat": 4,
  "vscode": {
   "interpreter": {
    "hash": "e0d398e7c3cc3d2b8386dfea47f5eae3378d5d39db7e2c8ef87e93246db0bfd2"
   }
  }
 },
 "nbformat": 4,
 "nbformat_minor": 2
}
