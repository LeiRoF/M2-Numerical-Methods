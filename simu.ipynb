{
 "cells": [
  {
   "cell_type": "code",
   "execution_count": 110,
   "metadata": {},
   "outputs": [],
   "source": [
    "from numpy import *\n",
    "import matplotlib.pyplot as plt"
   ]
  },
  {
   "cell_type": "markdown",
   "metadata": {},
   "source": [
    "---"
   ]
  },
  {
   "cell_type": "markdown",
   "metadata": {},
   "source": [
    "# Config"
   ]
  },
  {
   "cell_type": "code",
   "execution_count": 111,
   "metadata": {},
   "outputs": [],
   "source": [
    "L = 10 # Size of the grid\n",
    "D1 = 1e4 # Diffusion coefficient [s-1]\n",
    "F = linspace(5e-6,1e4,1000,endpoint=True) # Flux [s-1]\n",
    "\n",
    "simulation_time = 10 # [s]"
   ]
  },
  {
   "cell_type": "markdown",
   "metadata": {},
   "source": [
    "---"
   ]
  },
  {
   "cell_type": "markdown",
   "metadata": {},
   "source": [
    "# Class definition"
   ]
  },
  {
   "cell_type": "code",
   "execution_count": 112,
   "metadata": {},
   "outputs": [],
   "source": [
    "class Layer:\n",
    "    def __init__(self, L):\n",
    "        self.grid = []\n",
    "        for i in range(L):\n",
    "            self.grid.append([])\n",
    "            for j in range(L):\n",
    "                self.grid[i].append(None)\n",
    "        self.islands = []\n",
    "    \n",
    "    def elements(self):\n",
    "        monomers = []\n",
    "        islands = []\n",
    "        for row in self.grid:\n",
    "            for monomer in row:\n",
    "                if monomer is not None:\n",
    "                    if monomer.island is None:\n",
    "                        monomers.append(monomer)\n",
    "                    else:\n",
    "                        if monomer.island not in islands:\n",
    "                            islands.append(monomer.island)\n",
    "        return monomers, islands\n",
    "\n",
    "    def monomers(self):\n",
    "        return self.elements()[0]\n",
    "\n",
    "    def islands(self):\n",
    "        return self.elements()[1]\n",
    "\n",
    "    def heightmap(self):\n",
    "        heightmap = zeros((L,L))\n",
    "        for x in range(L):\n",
    "            for y in range(L):\n",
    "                if self.grid[x][y] is not None:\n",
    "                    heightmap[x][y] = 1\n",
    "        return heightmap"
   ]
  },
  {
   "cell_type": "code",
   "execution_count": 113,
   "metadata": {},
   "outputs": [],
   "source": [
    "class Monomer: \n",
    "    def __init__(self, layer, x=None, y=None):\n",
    "        self.layer = layer\n",
    "        self.island = None\n",
    "        \n",
    "        # Place the monomer randomly on the layer\n",
    "        while True:\n",
    "            cpt = 0\n",
    "            if x is None:\n",
    "                self.x = random.randint(0, L)\n",
    "            else:\n",
    "                self.x = x\n",
    "            if y is None:\n",
    "                self.y = random.randint(0, L)\n",
    "            else: self.y = y\n",
    "            \n",
    "            # Add the monomer to the layer\n",
    "            if layer.grid[self.x ][self.y] is None:\n",
    "                layer.grid[self.x][self.y] = self\n",
    "                break\n",
    "\n",
    "            if cpt > 1000: print(\"More than 1000 iteration to find a free spot... (it's recommended to stop the program)\")\n",
    "    \n",
    "    def neighbors(self):\n",
    "        neighbors = []\n",
    "        for x in range(self.x - 1, self.x + 2):\n",
    "            for y in range(self.y - 1, self.y + 2):\n",
    "                if x >= 0 and x < L and y >= 0 and y < L and (x != self.x or y != self.y):\n",
    "                    if self.layer.grid[x][y] is not None:\n",
    "                        neighbors.append(self.layer.grid[x][y])\n",
    "        return neighbors\n",
    "\n",
    "    def move(self):\n",
    "        if self.island is not None: return\n",
    "\n",
    "        # Choose a random direction\n",
    "        self.x += random.randint(-1, 2)\n",
    "        self.y += random.randint(-1, 2)\n",
    "\n",
    "        # If the monomer is out of the layer, it is teleportated to the other side\n",
    "        if self.x < 0:\n",
    "            self.x = 0\n",
    "        if self.x >= L:\n",
    "            self.x = L - 1\n",
    "        if self.y < 0:\n",
    "            self.y = 0\n",
    "        if self.y >= L:\n",
    "            self.y = L - 1\n",
    "\n",
    "        if len(neighbors := self.neighbors()) == 0:\n",
    "            for monomer in neighbors:\n",
    "                if monomer.island is not None:\n",
    "                    monomer.island.add_monomer(self)\n",
    "                    break\n",
    "            self.layer.grid[self.x][self.y] = self"
   ]
  },
  {
   "cell_type": "code",
   "execution_count": 114,
   "metadata": {},
   "outputs": [],
   "source": [
    "class Island:\n",
    "    def __init__(self, layer, monomers):\n",
    "        self.layer = layer\n",
    "        self.monomers = monomers\n",
    "    \n",
    "    def add_monomer(self, monomer):\n",
    "        self.occupied_sites.append((monomer.x, monomer.y))\n",
    "        monomer.island = self\n",
    "                "
   ]
  },
  {
   "cell_type": "markdown",
   "metadata": {},
   "source": [
    "---\n",
    "# Simulation"
   ]
  },
  {
   "cell_type": "code",
   "execution_count": 117,
   "metadata": {},
   "outputs": [
    {
     "name": "stdout",
     "output_type": "stream",
     "text": [
      "[None, None, None, None, None, None, None, None, None, None]\n",
      "[None, None, None, None, None, None, None, None, None, None]\n",
      "[None, None, None, None, None, None, None, None, None, None]\n",
      "[None, None, None, None, None, None, None, None, None, None]\n",
      "[None, None, None, None, None, None, None, None, None, None]\n",
      "[None, None, None, None, None, None, None, None, None, None]\n",
      "[None, None, None, None, None, None, None, None, None, None]\n",
      "[None, None, None, None, None, None, None, None, None, None]\n",
      "[None, None, None, None, None, None, None, None, None, None]\n",
      "[None, None, None, None, None, None, None, None, None, None]\n",
      "\u001b[32;1m━━━━━\u001b[37;1m╺\u001b[37;1m━━━━━━━━━━━━━━━━━━━━━━━━━━━━━━━━━━━━━━━━━━━━━━━━━ \u001b[32;1m9% \u001b[31;1m91/1000 \u001b[35m0:00:00 \u001b[0meta \u001b[34m-\u001b[0m\r"
     ]
    },
    {
     "ename": "KeyboardInterrupt",
     "evalue": "",
     "output_type": "error",
     "traceback": [
      "\u001b[1;31m---------------------------------------------------------------------------\u001b[0m",
      "\u001b[1;31mKeyboardInterrupt\u001b[0m                         Traceback (most recent call last)",
      "\u001b[1;32mc:\\Users\\vince\\Documents\\Dev\\CompuPhys\\M2-Numerical-Methods\\simu.ipynb Cell 11\u001b[0m in \u001b[0;36m<cell line: 17>\u001b[1;34m()\u001b[0m\n\u001b[0;32m     <a href='vscode-notebook-cell:/c%3A/Users/vince/Documents/Dev/CompuPhys/M2-Numerical-Methods/simu.ipynb#X20sZmlsZQ%3D%3D?line=15'>16</a>\u001b[0m a \u001b[39m=\u001b[39m progress\u001b[39m.\u001b[39mBar(\u001b[39mmax\u001b[39m\u001b[39m=\u001b[39m\u001b[39m1000\u001b[39m)\n\u001b[0;32m     <a href='vscode-notebook-cell:/c%3A/Users/vince/Documents/Dev/CompuPhys/M2-Numerical-Methods/simu.ipynb#X20sZmlsZQ%3D%3D?line=16'>17</a>\u001b[0m \u001b[39mfor\u001b[39;00m i, simulation_step \u001b[39min\u001b[39;00m \u001b[39menumerate\u001b[39m(linspace(\u001b[39m0\u001b[39m,simulation_time,\u001b[39m1000\u001b[39m)):\n\u001b[1;32m---> <a href='vscode-notebook-cell:/c%3A/Users/vince/Documents/Dev/CompuPhys/M2-Numerical-Methods/simu.ipynb#X20sZmlsZQ%3D%3D?line=17'>18</a>\u001b[0m     evolution\u001b[39m.\u001b[39mappend(evolve())\n\u001b[0;32m     <a href='vscode-notebook-cell:/c%3A/Users/vince/Documents/Dev/CompuPhys/M2-Numerical-Methods/simu.ipynb#X20sZmlsZQ%3D%3D?line=18'>19</a>\u001b[0m     a(i)\n\u001b[0;32m     <a href='vscode-notebook-cell:/c%3A/Users/vince/Documents/Dev/CompuPhys/M2-Numerical-Methods/simu.ipynb#X20sZmlsZQ%3D%3D?line=19'>20</a>\u001b[0m a(\u001b[39m1000\u001b[39m)\n",
      "\u001b[1;32mc:\\Users\\vince\\Documents\\Dev\\CompuPhys\\M2-Numerical-Methods\\simu.ipynb Cell 11\u001b[0m in \u001b[0;36mevolve\u001b[1;34m()\u001b[0m\n\u001b[0;32m      <a href='vscode-notebook-cell:/c%3A/Users/vince/Documents/Dev/CompuPhys/M2-Numerical-Methods/simu.ipynb#X20sZmlsZQ%3D%3D?line=3'>4</a>\u001b[0m \u001b[39mdef\u001b[39;00m \u001b[39mevolve\u001b[39m():\n\u001b[1;32m----> <a href='vscode-notebook-cell:/c%3A/Users/vince/Documents/Dev/CompuPhys/M2-Numerical-Methods/simu.ipynb#X20sZmlsZQ%3D%3D?line=4'>5</a>\u001b[0m     monomer \u001b[39m=\u001b[39m Monomer(layer)\n\u001b[0;32m      <a href='vscode-notebook-cell:/c%3A/Users/vince/Documents/Dev/CompuPhys/M2-Numerical-Methods/simu.ipynb#X20sZmlsZQ%3D%3D?line=6'>7</a>\u001b[0m     \u001b[39mfor\u001b[39;00m monomer \u001b[39min\u001b[39;00m layer\u001b[39m.\u001b[39mmonomers():\n\u001b[0;32m      <a href='vscode-notebook-cell:/c%3A/Users/vince/Documents/Dev/CompuPhys/M2-Numerical-Methods/simu.ipynb#X20sZmlsZQ%3D%3D?line=7'>8</a>\u001b[0m         monomer\u001b[39m.\u001b[39mmove()\n",
      "\u001b[1;32mc:\\Users\\vince\\Documents\\Dev\\CompuPhys\\M2-Numerical-Methods\\simu.ipynb Cell 11\u001b[0m in \u001b[0;36mMonomer.__init__\u001b[1;34m(self, layer, x, y)\u001b[0m\n\u001b[0;32m     <a href='vscode-notebook-cell:/c%3A/Users/vince/Documents/Dev/CompuPhys/M2-Numerical-Methods/simu.ipynb#X20sZmlsZQ%3D%3D?line=11'>12</a>\u001b[0m     \u001b[39mself\u001b[39m\u001b[39m.\u001b[39mx \u001b[39m=\u001b[39m x\n\u001b[0;32m     <a href='vscode-notebook-cell:/c%3A/Users/vince/Documents/Dev/CompuPhys/M2-Numerical-Methods/simu.ipynb#X20sZmlsZQ%3D%3D?line=12'>13</a>\u001b[0m \u001b[39mif\u001b[39;00m y \u001b[39mis\u001b[39;00m \u001b[39mNone\u001b[39;00m:\n\u001b[1;32m---> <a href='vscode-notebook-cell:/c%3A/Users/vince/Documents/Dev/CompuPhys/M2-Numerical-Methods/simu.ipynb#X20sZmlsZQ%3D%3D?line=13'>14</a>\u001b[0m     \u001b[39mself\u001b[39m\u001b[39m.\u001b[39my \u001b[39m=\u001b[39m random\u001b[39m.\u001b[39;49mrandint(\u001b[39m0\u001b[39;49m, L)\n\u001b[0;32m     <a href='vscode-notebook-cell:/c%3A/Users/vince/Documents/Dev/CompuPhys/M2-Numerical-Methods/simu.ipynb#X20sZmlsZQ%3D%3D?line=14'>15</a>\u001b[0m \u001b[39melse\u001b[39;00m: \u001b[39mself\u001b[39m\u001b[39m.\u001b[39my \u001b[39m=\u001b[39m y\n\u001b[0;32m     <a href='vscode-notebook-cell:/c%3A/Users/vince/Documents/Dev/CompuPhys/M2-Numerical-Methods/simu.ipynb#X20sZmlsZQ%3D%3D?line=16'>17</a>\u001b[0m \u001b[39m# Add the monomer to the layer\u001b[39;00m\n",
      "\u001b[1;31mKeyboardInterrupt\u001b[0m: "
     ]
    }
   ],
   "source": [
    "layer = Layer(L)\n",
    "evolution = []\n",
    "\n",
    "def evolve():\n",
    "    monomer = Monomer(layer)\n",
    "\n",
    "    for monomer in layer.monomers():\n",
    "        monomer.move()\n",
    "\n",
    "        if len(neighbors := monomer.neighbors()) > 0:\n",
    "            island = Island(layer, neighbors + [monomer])\n",
    "\n",
    "    return layer.heightmap()\n",
    "\n",
    "from LRFutils import progress\n",
    "a = progress.Bar(max=1000)\n",
    "for i, simulation_step in enumerate(linspace(0,simulation_time,1000)):\n",
    "    evolution.append(evolve())\n",
    "    a(i)\n",
    "a(1000)\n",
    "\n",
    "import analyze\n",
    "analyze.generate_animation(evolution, save_as = None, plot=False, verbose = False)"
   ]
  }
 ],
 "metadata": {
  "kernelspec": {
   "display_name": "Python 3.10.7 64-bit (microsoft store)",
   "language": "python",
   "name": "python3"
  },
  "language_info": {
   "codemirror_mode": {
    "name": "ipython",
    "version": 3
   },
   "file_extension": ".py",
   "mimetype": "text/x-python",
   "name": "python",
   "nbconvert_exporter": "python",
   "pygments_lexer": "ipython3",
   "version": "3.10.7"
  },
  "orig_nbformat": 4,
  "vscode": {
   "interpreter": {
    "hash": "e0d398e7c3cc3d2b8386dfea47f5eae3378d5d39db7e2c8ef87e93246db0bfd2"
   }
  }
 },
 "nbformat": 4,
 "nbformat_minor": 2
}
