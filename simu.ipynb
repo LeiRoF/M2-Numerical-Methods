{
 "cells": [
  {
   "cell_type": "code",
   "execution_count": 13,
   "metadata": {},
   "outputs": [],
   "source": [
    "from numpy import *\n",
    "import matplotlib.pyplot as plt\n",
    "from LRFutils import progress\n",
    "from LRFutils import archive\n",
    "import analyze"
   ]
  },
  {
   "cell_type": "markdown",
   "metadata": {},
   "source": [
    "---"
   ]
  },
  {
   "cell_type": "markdown",
   "metadata": {},
   "source": [
    "# Config"
   ]
  },
  {
   "cell_type": "code",
   "execution_count": 14,
   "metadata": {},
   "outputs": [],
   "source": [
    "L = 100 # Size of the grid\n",
    "D1 = 1e4 # Diffusion coefficient [s-1]\n",
    "F = linspace(5e-6,1e4,1000,endpoint=True) # Flux [s-1]\n",
    "\n",
    "simulation_time = 10 # [s]"
   ]
  },
  {
   "cell_type": "markdown",
   "metadata": {},
   "source": [
    "---"
   ]
  },
  {
   "cell_type": "markdown",
   "metadata": {},
   "source": [
    "# Class definition"
   ]
  },
  {
   "cell_type": "code",
   "execution_count": 15,
   "metadata": {},
   "outputs": [],
   "source": [
    "class Layer:\n",
    "    def __init__(self, L):\n",
    "        self.grid = []\n",
    "        for i in range(L):\n",
    "            self.grid.append([])\n",
    "            for j in range(L):\n",
    "                self.grid[i].append(None)\n",
    "        self.islands = []\n",
    "    \n",
    "    def elements(self):\n",
    "        monomers = []\n",
    "        islands = []\n",
    "        for row in self.grid:\n",
    "            for monomer in row:\n",
    "                if monomer is not None:\n",
    "                    if monomer.island is None:\n",
    "                        monomers.append(monomer)\n",
    "                    else:\n",
    "                        if monomer.island not in islands:\n",
    "                            islands.append(monomer.island)\n",
    "        return monomers, islands\n",
    "\n",
    "    def monomers(self):\n",
    "        return self.elements()[0]\n",
    "\n",
    "    def islands(self):\n",
    "        return self.elements()[1]\n",
    "\n",
    "    def heightmap(self):\n",
    "        heightmap = zeros((L,L))\n",
    "        for x in range(L):\n",
    "            for y in range(L):\n",
    "                if self.grid[x][y] is not None:\n",
    "                    heightmap[x][y] = 1\n",
    "        return heightmap\n",
    "\n",
    "    def corrected_pos(x):\n",
    "        if x < 0:\n",
    "            return L-1\n",
    "        elif x >= L:\n",
    "            return 0\n",
    "        else:\n",
    "            return x"
   ]
  },
  {
   "cell_type": "code",
   "execution_count": 16,
   "metadata": {},
   "outputs": [],
   "source": [
    "class Island:\n",
    "    def __init__(self, layer, monomers):\n",
    "        self.layer = layer\n",
    "        if type(monomers) is not list: monomers = [monomers] \n",
    "        self.monomers = monomers\n",
    "    \n",
    "    def add_monomer(self, monomer):\n",
    "        monomer.island = self\n",
    "        self.monomers.append(monomer)\n",
    "                "
   ]
  },
  {
   "cell_type": "code",
   "execution_count": 17,
   "metadata": {},
   "outputs": [],
   "source": [
    "class Monomer: \n",
    "    def __init__(self, layer, x=None, y=None):\n",
    "        self.layer = layer\n",
    "        self.island = None\n",
    "        \n",
    "        # Place the monomer randomly on the layer\n",
    "        cpt = 0\n",
    "        while True:\n",
    "            if x is None:\n",
    "                self.x = random.randint(0, L)\n",
    "            else:\n",
    "                self.x = x\n",
    "            if y is None:\n",
    "                self.y = random.randint(0, L)\n",
    "            else: self.y = y\n",
    "            \n",
    "            # Add the monomer to the layer\n",
    "            if layer.grid[self.x ][self.y] is None:\n",
    "                layer.grid[self.x][self.y] = self\n",
    "                break\n",
    "\n",
    "            cpt += 1\n",
    "            if cpt > 1000:\n",
    "                print(\"More than 1000 iteration to find a free spot... cancelling particle apparition for this loop (it's recommended to stop the program)\")\n",
    "                break\n",
    "    \n",
    "    def neighbors(self):\n",
    "        neighbors = []\n",
    "\n",
    "        if self.layer.grid[Layer.corrected_pos(self.x-1)][self.y] is not None:\n",
    "            neighbors.append(self.layer.grid[Layer.corrected_pos(self.x-1)][self.y])\n",
    "        if self.layer.grid[Layer.corrected_pos(self.x+1)][self.y] is not None:\n",
    "            neighbors.append(self.layer.grid[Layer.corrected_pos(self.x+1)][self.y])\n",
    "        if self.layer.grid[self.x][Layer.corrected_pos(self.y-1)] is not None:\n",
    "            neighbors.append(self.layer.grid[self.x][Layer.corrected_pos(self.y-1)])\n",
    "        if self.layer.grid[self.x][Layer.corrected_pos(self.y+1)] is not None:\n",
    "            neighbors.append(self.layer.grid[self.x][Layer.corrected_pos(self.y+1)])\n",
    "\n",
    "        # for x in range(self.x - 1, self.x + 2):\n",
    "        #     if x < 0: x = L\n",
    "        #     if x >= L: x = 0\n",
    "            \n",
    "        #     for y in range(self.y - 1, self.y + 2):\n",
    "        #         if y < 0: y = L\n",
    "        #         if y >= L: y = 0\n",
    "\n",
    "        #         # Not taking itself\n",
    "        #         if x != self.x and y != self.y:\n",
    "\n",
    "        #             # Not taking diagonals\n",
    "        #             if not (x != self.x and y != self.y):\n",
    "\n",
    "        #                 # Checking if their is monomers\n",
    "        #                 if self.layer.grid[x][y] is not None:\n",
    "        #                     neighbors.append(self.layer.grid[x][y])\n",
    "                        \n",
    "        return neighbors\n",
    "\n",
    "    def islandify(self):\n",
    "        # Transform the monomer into an island if it has a neighbor\n",
    "        if len(neighbors := self.neighbors()) != 0:\n",
    "            islandified = False\n",
    "            for monomer in neighbors:\n",
    "                if monomer.island is not None:\n",
    "                    monomer.island.add_monomer(self)\n",
    "                    islandified = True\n",
    "                    break\n",
    "            if not islandified:\n",
    "                self.island = Island(self.layer, self)\n",
    "                for monomer in neighbors:\n",
    "                    monomer.island = self.island\n",
    "\n",
    "    def move(self):\n",
    "\n",
    "        self.islandify()\n",
    "\n",
    "        if self.island is not None: return\n",
    "\n",
    "        x, y = self.x, self.y\n",
    "\n",
    "        # Choose a random direction\n",
    "        direction = random.randint(0, 2)\n",
    "        if direction == 0:\n",
    "            x += random.randint(-1, 2)\n",
    "        else:\n",
    "            y += random.randint(-1, 2)\n",
    "\n",
    "        # Apply limit conditions\n",
    "        x = Layer.corrected_pos(x)\n",
    "        y = Layer.corrected_pos(y)\n",
    "\n",
    "        self.layer.grid[self.x][self.y] = None\n",
    "        self.layer.grid[x][y] = self\n",
    "        self.x, self.y = x, y\n",
    "\n",
    "        self.islandify()"
   ]
  },
  {
   "cell_type": "markdown",
   "metadata": {},
   "source": [
    "---\n",
    "# Simulation"
   ]
  },
  {
   "cell_type": "code",
   "execution_count": 18,
   "metadata": {},
   "outputs": [
    {
     "name": "stdout",
     "output_type": "stream",
     "text": [
      "\u001b[0mSimulating evolution \u001b[32;1m━━━━━━━━━━━━━━━━━━━━━━━━━\u001b[37;1m╺\u001b[37;1m \u001b[32;1m97% \u001b[31;1m975/1000 \u001b[35m0:00:02 \u001b[0meta \u001b[34m0:00:00\u001b[0m\r"
     ]
    },
    {
     "name": "stderr",
     "output_type": "stream",
     "text": [
      "MovieWriter ffmpeg unavailable; using Pillow instead.\n"
     ]
    },
    {
     "name": "stdout",
     "output_type": "stream",
     "text": [
      "\u001b[0mSimulating evolution \u001b[32;1m━━━━━━━━━━━━━━━━━━━━━━━━━━━━━━━━━━━━ \u001b[32;1m100% \u001b[31;1m1000/1000 \u001b[35m0:00:02\u001b[0m[0meta \u001b[34m0:00:00\u001b[0m\n",
      "\u001b[0mGenerating animation \u001b[32;1m━━━━━━━━━━━━━━━━━━━━━━━━━━━━━━━━━━━━ \u001b[32;1m100% \u001b[31;1m1000/1000 \u001b[35m0:00:39\u001b[0m[0meta \u001b[34m0:00:00\u001b[0m\n"
     ]
    },
    {
     "data": {
      "image/png": "[encoded data removed]",
      "text/plain": [
       "<Figure size 640x480 with 1 Axes>"
      ]
     },
     "metadata": {},
     "output_type": "display_data"
    }
   ],
   "source": [
    "layer = Layer(L)\n",
    "evolution = []\n",
    "\n",
    "def evolve():\n",
    "    # Creating layer\n",
    "    monomer = Monomer(layer)\n",
    "\n",
    "    for monomer in layer.monomers():\n",
    "        \n",
    "        # Move alll monomers\n",
    "        monomer.move()\n",
    "\n",
    "        # Check if monomers are in contact -> create island\n",
    "        if len(neighbors := monomer.neighbors()) > 0:\n",
    "            island = Island(layer, neighbors + [monomer])\n",
    "\n",
    "    # Return the new state of the layer as a matrix with 1 if there is a monomer, 0 otherwise\n",
    "    return layer.heightmap()\n",
    "\n",
    "# Generating evolution\n",
    "a = progress.Bar(max=1000, prefix=\"Simulating evolution\")\n",
    "for i, simulation_step in enumerate(linspace(0,simulation_time,1000)):\n",
    "    evolution.append(evolve())\n",
    "    a(i+1)\n",
    "\n",
    "path = archive.new()\n",
    "analyze.generate_animation(evolution, save_as = f\"{path}/Evolution.gif\", plot=False, verbose = False)"
   ]
  }
 ],
 "metadata": {
  "kernelspec": {
   "display_name": "Python 3.10.7 64-bit (microsoft store)",
   "language": "python",
   "name": "python3"
  },
  "language_info": {
   "codemirror_mode": {
    "name": "ipython",
    "version": 3
   },
   "file_extension": ".py",
   "mimetype": "text/x-python",
   "name": "python",
   "nbconvert_exporter": "python",
   "pygments_lexer": "ipython3",
   "version": "3.10.7"
  },
  "orig_nbformat": 4,
  "vscode": {
   "interpreter": {
    "hash": "e0d398e7c3cc3d2b8386dfea47f5eae3378d5d39db7e2c8ef87e93246db0bfd2"
   }
  }
 },
 "nbformat": 4,
 "nbformat_minor": 2
}
